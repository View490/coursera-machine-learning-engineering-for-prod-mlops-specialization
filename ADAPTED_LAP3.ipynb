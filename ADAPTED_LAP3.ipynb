{
 "cells": [
  {
   "cell_type": "code",
   "execution_count": 12,
   "metadata": {},
   "outputs": [
    {
     "name": "stdout",
     "output_type": "stream",
     "text": [
      "TensorFlow version: 2.13.0\n",
      "PyArrow version: 10.0.1\n",
      "Apache Beam version: 2.53.0\n",
      "scikit-learn version: 1.3.0\n",
      "TFDV version: 1.14.0\n"
     ]
    }
   ],
   "source": [
    "import tensorflow as tf\n",
    "import pyarrow\n",
    "import apache_beam\n",
    "import sklearn\n",
    "\n",
    "print(\"TensorFlow version:\", tf.__version__)\n",
    "print(\"PyArrow version:\", pyarrow.__version__)\n",
    "print(\"Apache Beam version:\", apache_beam.__version__)\n",
    "print(\"scikit-learn version:\", sklearn.__version__)\n",
    "\n",
    "import tensorflow_data_validation as tfdv\n",
    "\n",
    "print(\"TFDV version:\", tfdv.__version__)\n"
   ]
  }
 ],
 "metadata": {
  "kernelspec": {
   "display_name": "env_tfdv",
   "language": "python",
   "name": "python3"
  },
  "language_info": {
   "codemirror_mode": {
    "name": "ipython",
    "version": 3
   },
   "file_extension": ".py",
   "mimetype": "text/x-python",
   "name": "python",
   "nbconvert_exporter": "python",
   "pygments_lexer": "ipython3",
   "version": "3.8.18"
  }
 },
 "nbformat": 4,
 "nbformat_minor": 2
}
